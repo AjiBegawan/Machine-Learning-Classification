{
 "cells": [
  {
   "cell_type": "code",
   "execution_count": 1,
   "metadata": {},
   "outputs": [
    {
     "name": "stdout",
     "output_type": "stream",
     "text": [
      "PhysicalDevice(name='/physical_device:GPU:0', device_type='GPU')\n"
     ]
    }
   ],
   "source": [
    "import tensorflow as tf\n",
    "gpu = tf.config.experimental.list_physical_devices('GPU')\n",
    "tf.config.experimental.set_memory_growth(gpu[0], True)\n",
    "print(gpu[0])"
   ]
  },
  {
   "attachments": {},
   "cell_type": "markdown",
   "metadata": {},
   "source": [
    "# 1. Import Libraries"
   ]
  },
  {
   "cell_type": "code",
   "execution_count": 2,
   "metadata": {},
   "outputs": [
    {
     "name": "stderr",
     "output_type": "stream",
     "text": [
      "[nltk_data] Downloading package punkt to\n",
      "[nltk_data]     C:\\Users\\indiz\\AppData\\Roaming\\nltk_data...\n",
      "[nltk_data]   Package punkt is already up-to-date!\n",
      "[nltk_data] Downloading package stopwords to\n",
      "[nltk_data]     C:\\Users\\indiz\\AppData\\Roaming\\nltk_data...\n",
      "[nltk_data]   Package stopwords is already up-to-date!\n",
      "[nltk_data] Downloading package wordnet to\n",
      "[nltk_data]     C:\\Users\\indiz\\AppData\\Roaming\\nltk_data...\n",
      "[nltk_data]   Package wordnet is already up-to-date!\n"
     ]
    }
   ],
   "source": [
    "import re\n",
    "import math\n",
    "import string\n",
    "import numpy as np\n",
    "import pandas as pd\n",
    "import seaborn as sns\n",
    "import matplotlib.pyplot as plt\n",
    "\n",
    "from collections import Counter\n",
    "from keras.utils import to_categorical\n",
    "from imblearn.under_sampling import RandomUnderSampler\n",
    "from tqdm.notebook import tqdm\n",
    "tqdm.pandas()\n",
    "\n",
    "from tensorflow import keras\n",
    "from tensorflow.keras.optimizers import Adam\n",
    "from tensorflow.keras.models import Sequential\n",
    "from tensorflow.keras.layers import Dense, Flatten, Conv1D, MaxPooling1D, LSTM, GRU, Embedding,\\\n",
    "    BatchNormalization, LeakyReLU, Dropout, ReLU, Bidirectional \n",
    "\n",
    "from sklearn.metrics import classification_report \n",
    "from sklearn.model_selection import train_test_split\n",
    "from sklearn.metrics import mean_squared_error, r2_score\n",
    "from sklearn.preprocessing import  MinMaxScaler, PowerTransformer\n",
    "from sklearn.metrics import accuracy_score, confusion_matrix, roc_auc_score\n",
    "from sklearn.feature_extraction.text import CountVectorizer, TfidfVectorizer\n",
    "\n",
    "from sklearn.tree import DecisionTreeClassifier\n",
    "from sklearn.neighbors import KNeighborsClassifier\n",
    "from sklearn.ensemble import (\n",
    "    GradientBoostingClassifier, \n",
    "    AdaBoostClassifier, \n",
    "    RandomForestClassifier,\n",
    "    BaggingClassifier,\n",
    "    ExtraTreesClassifier,\n",
    "    RandomForestClassifier,\n",
    "    StackingClassifier,\n",
    "    HistGradientBoostingClassifier\n",
    ")\n",
    "from xgboost import XGBClassifier\n",
    "\n",
    "from tensorflow.keras.preprocessing.text import Tokenizer\n",
    "from tensorflow.keras.preprocessing.sequence import pad_sequences\n",
    "\n",
    "import nltk\n",
    "nltk.download('punkt')\n",
    "nltk.download('stopwords')\n",
    "nltk.download('wordnet')\n",
    "from nltk.corpus import stopwords\n",
    "from nltk.stem.snowball import SnowballStemmer\n",
    "from nltk.stem.wordnet import WordNetLemmatizer"
   ]
  },
  {
   "attachments": {},
   "cell_type": "markdown",
   "metadata": {},
   "source": [
    "# 2. Load Data"
   ]
  },
  {
   "cell_type": "code",
   "execution_count": 3,
   "metadata": {},
   "outputs": [
    {
     "data": {
      "text/html": [
       "<div>\n",
       "<style scoped>\n",
       "    .dataframe tbody tr th:only-of-type {\n",
       "        vertical-align: middle;\n",
       "    }\n",
       "\n",
       "    .dataframe tbody tr th {\n",
       "        vertical-align: top;\n",
       "    }\n",
       "\n",
       "    .dataframe thead th {\n",
       "        text-align: right;\n",
       "    }\n",
       "</style>\n",
       "<table border=\"1\" class=\"dataframe\">\n",
       "  <thead>\n",
       "    <tr style=\"text-align: right;\">\n",
       "      <th></th>\n",
       "      <th>Product_name</th>\n",
       "      <th>Review</th>\n",
       "      <th>Rating</th>\n",
       "    </tr>\n",
       "  </thead>\n",
       "  <tbody>\n",
       "    <tr>\n",
       "      <th>0</th>\n",
       "      <td>Lenovo Ideapad Gaming 3 Ryzen 5 Hexa Core 5600...</td>\n",
       "      <td>Best under 60k Great performanceI got it for a...</td>\n",
       "      <td>5</td>\n",
       "    </tr>\n",
       "    <tr>\n",
       "      <th>1</th>\n",
       "      <td>Lenovo Ideapad Gaming 3 Ryzen 5 Hexa Core 5600...</td>\n",
       "      <td>Good perfomence...</td>\n",
       "      <td>5</td>\n",
       "    </tr>\n",
       "    <tr>\n",
       "      <th>2</th>\n",
       "      <td>Lenovo Ideapad Gaming 3 Ryzen 5 Hexa Core 5600...</td>\n",
       "      <td>Great performance but usually it has also that...</td>\n",
       "      <td>5</td>\n",
       "    </tr>\n",
       "    <tr>\n",
       "      <th>3</th>\n",
       "      <td>DELL Inspiron Athlon Dual Core 3050U - (4 GB/2...</td>\n",
       "      <td>My wife is so happy and best product 👌🏻😘</td>\n",
       "      <td>5</td>\n",
       "    </tr>\n",
       "    <tr>\n",
       "      <th>4</th>\n",
       "      <td>DELL Inspiron Athlon Dual Core 3050U - (4 GB/2...</td>\n",
       "      <td>Light weight laptop with new amazing features,...</td>\n",
       "      <td>5</td>\n",
       "    </tr>\n",
       "    <tr>\n",
       "      <th>...</th>\n",
       "      <td>...</td>\n",
       "      <td>...</td>\n",
       "      <td>...</td>\n",
       "    </tr>\n",
       "    <tr>\n",
       "      <th>2299</th>\n",
       "      <td>MSI 27 inch Full HD IPS Panel Monitor (PRO MP2...</td>\n",
       "      <td>Great display, accurate colours at this price ...</td>\n",
       "      <td>5</td>\n",
       "    </tr>\n",
       "    <tr>\n",
       "      <th>2300</th>\n",
       "      <td>MSI 27 inch Full HD IPS Panel Monitor (PRO MP2...</td>\n",
       "      <td>Superb monitor first brought 1 used for 2 mont...</td>\n",
       "      <td>5</td>\n",
       "    </tr>\n",
       "    <tr>\n",
       "      <th>2301</th>\n",
       "      <td>MSI 27 inch Full HD IPS Panel Monitor (PRO MP2...</td>\n",
       "      <td>Awesome</td>\n",
       "      <td>5</td>\n",
       "    </tr>\n",
       "    <tr>\n",
       "      <th>2302</th>\n",
       "      <td>MSI 27 inch Full HD IPS Panel Monitor (PRO MP2...</td>\n",
       "      <td>Only one issue with adapter</td>\n",
       "      <td>5</td>\n",
       "    </tr>\n",
       "    <tr>\n",
       "      <th>2303</th>\n",
       "      <td>MSI 27 inch Full HD IPS Panel Monitor (PRO MP2...</td>\n",
       "      <td>Worth the money u spend for this monitor Great...</td>\n",
       "      <td>5</td>\n",
       "    </tr>\n",
       "  </tbody>\n",
       "</table>\n",
       "<p>2181 rows × 3 columns</p>\n",
       "</div>"
      ],
      "text/plain": [
       "                                           Product_name  \\\n",
       "0     Lenovo Ideapad Gaming 3 Ryzen 5 Hexa Core 5600...   \n",
       "1     Lenovo Ideapad Gaming 3 Ryzen 5 Hexa Core 5600...   \n",
       "2     Lenovo Ideapad Gaming 3 Ryzen 5 Hexa Core 5600...   \n",
       "3     DELL Inspiron Athlon Dual Core 3050U - (4 GB/2...   \n",
       "4     DELL Inspiron Athlon Dual Core 3050U - (4 GB/2...   \n",
       "...                                                 ...   \n",
       "2299  MSI 27 inch Full HD IPS Panel Monitor (PRO MP2...   \n",
       "2300  MSI 27 inch Full HD IPS Panel Monitor (PRO MP2...   \n",
       "2301  MSI 27 inch Full HD IPS Panel Monitor (PRO MP2...   \n",
       "2302  MSI 27 inch Full HD IPS Panel Monitor (PRO MP2...   \n",
       "2303  MSI 27 inch Full HD IPS Panel Monitor (PRO MP2...   \n",
       "\n",
       "                                                 Review  Rating  \n",
       "0     Best under 60k Great performanceI got it for a...       5  \n",
       "1                                    Good perfomence...       5  \n",
       "2     Great performance but usually it has also that...       5  \n",
       "3              My wife is so happy and best product 👌🏻😘       5  \n",
       "4     Light weight laptop with new amazing features,...       5  \n",
       "...                                                 ...     ...  \n",
       "2299  Great display, accurate colours at this price ...       5  \n",
       "2300  Superb monitor first brought 1 used for 2 mont...       5  \n",
       "2301                                            Awesome       5  \n",
       "2302                        Only one issue with adapter       5  \n",
       "2303  Worth the money u spend for this monitor Great...       5  \n",
       "\n",
       "[2181 rows x 3 columns]"
      ]
     },
     "execution_count": 3,
     "metadata": {},
     "output_type": "execute_result"
    }
   ],
   "source": [
    "data = pd.read_csv('../Dataset/flipkart_reviews.csv')\n",
    "data = data.drop_duplicates()\n",
    "data"
   ]
  },
  {
   "attachments": {},
   "cell_type": "markdown",
   "metadata": {},
   "source": [
    "# 3. Initial Analysis"
   ]
  },
  {
   "cell_type": "markdown",
   "metadata": {},
   "source": [
    "### 3.1. Metadata"
   ]
  },
  {
   "cell_type": "code",
   "execution_count": 4,
   "metadata": {},
   "outputs": [
    {
     "name": "stdout",
     "output_type": "stream",
     "text": [
      "<class 'pandas.core.frame.DataFrame'>\n",
      "Int64Index: 2181 entries, 0 to 2303\n",
      "Data columns (total 3 columns):\n",
      " #   Column        Non-Null Count  Dtype \n",
      "---  ------        --------------  ----- \n",
      " 0   Product_name  2181 non-null   object\n",
      " 1   Review        2181 non-null   object\n",
      " 2   Rating        2181 non-null   int64 \n",
      "dtypes: int64(1), object(2)\n",
      "memory usage: 68.2+ KB\n"
     ]
    }
   ],
   "source": [
    "data.info()"
   ]
  },
  {
   "cell_type": "code",
   "execution_count": 5,
   "metadata": {},
   "outputs": [
    {
     "data": {
      "text/plain": [
       "Product_name    0\n",
       "Review          0\n",
       "Rating          0\n",
       "dtype: int64"
      ]
     },
     "execution_count": 5,
     "metadata": {},
     "output_type": "execute_result"
    }
   ],
   "source": [
    "data.isnull().sum()"
   ]
  },
  {
   "cell_type": "code",
   "execution_count": 14,
   "metadata": {},
   "outputs": [
    {
     "data": {
      "text/plain": [
       "0"
      ]
     },
     "execution_count": 14,
     "metadata": {},
     "output_type": "execute_result"
    }
   ],
   "source": [
    "data.duplicated().sum()"
   ]
  },
  {
   "cell_type": "code",
   "execution_count": 20,
   "metadata": {},
   "outputs": [
    {
     "data": {
      "text/plain": [
       "5    1332\n",
       "4     525\n",
       "1     162\n",
       "3     118\n",
       "2      44\n",
       "Name: Rating, dtype: int64"
      ]
     },
     "execution_count": 20,
     "metadata": {},
     "output_type": "execute_result"
    }
   ],
   "source": [
    "data['Rating'].value_counts()"
   ]
  },
  {
   "attachments": {},
   "cell_type": "markdown",
   "metadata": {},
   "source": [
    "### 3.2. EDA"
   ]
  },
  {
   "cell_type": "code",
   "execution_count": 6,
   "metadata": {},
   "outputs": [],
   "source": [
    "data['Rating'] = data['Rating'].map({1 : 1,\n",
    "                                     2 : 1,\n",
    "                                     3 : 1,\n",
    "                                     4 : 2,\n",
    "                                     5 : 3})"
   ]
  },
  {
   "cell_type": "code",
   "execution_count": 7,
   "metadata": {},
   "outputs": [
    {
     "data": {
      "text/plain": [
       "[Text(0, 0, '324'), Text(0, 0, '525'), Text(0, 0, '1332')]"
      ]
     },
     "execution_count": 7,
     "metadata": {},
     "output_type": "execute_result"
    },
    {
     "data": {
      "image/png": "[encoded data removed]",
      "text/plain": [
       "<Figure size 640x480 with 1 Axes>"
      ]
     },
     "metadata": {},
     "output_type": "display_data"
    }
   ],
   "source": [
    "ax = sns.countplot(data, x = data['Rating'])\n",
    "ax.bar_label(ax.containers[0])"
   ]
  },
  {
   "attachments": {},
   "cell_type": "markdown",
   "metadata": {},
   "source": [
    "# 4. Processing Text"
   ]
  },
  {
   "cell_type": "code",
   "execution_count": 8,
   "metadata": {},
   "outputs": [],
   "source": [
    "def lower_text(text):\n",
    "    return text.lower()\n",
    "\n",
    "def alphanumeric_text(text):\n",
    "    # return re.sub(\"[^a-z0-9\\s]\",\"\", text)\n",
    "    text = text.lower()\n",
    "    return re.sub(r'[^\\w\\s.,]', '', text)\n",
    "\n",
    "def remove_duplicate_words(text):\n",
    "    return re.sub(r'\\b(\\w+)(\\s+\\1)+\\b', r'\\1', text)\n",
    "\n",
    "def clean(text):\n",
    "    text = str(text).lower()\n",
    "    text = re.sub('\\[.*?\\]', '', text)\n",
    "    text = re.sub('https?://\\S+|www\\.\\S+', '', text)\n",
    "    text = re.sub('<.*?>+', '', text)\n",
    "    text = re.sub('[%s]' % re.escape(string.punctuation), '', text)\n",
    "    text = re.sub('\\n', '', text)\n",
    "    text = re.sub('\\w*\\d\\w*', '', text)\n",
    "    text = [word for word in text.split(' ') if word not in nltk_stopword]\n",
    "    text = \" \".join(text)\n",
    "    # text = [stemmer.stem(word) for word in text.split(' ')]\n",
    "    # text=\" \".join(text)\n",
    "    return text\n",
    "lemmatizer = WordNetLemmatizer()\n",
    "\n",
    "def lemmatize_word(word):\n",
    "    return lemmatizer.lemmatize(word, pos='v')\n",
    "\n",
    "def lemmatize_sentence(sentence):\n",
    "    words = nltk.word_tokenize(sentence)  # convert to lower case and tokenize\n",
    "    words = [word for word in words if word.isalnum()]  # filter out non-alphanumeric characters\n",
    "    words = [lemmatize_word(word) for word in words]  # lemmatize each word\n",
    "    return ' '.join(words)  # join the lemmatized words back into a sentence\n",
    "\n",
    "\n",
    "stopword_en = pd.read_csv('../../en_stopword_1555.txt', header=None).drop_duplicates()\n",
    "en_stopword = stopword_en[0].values.tolist()\n",
    "en_stopword = [word.strip() for word in en_stopword]\n",
    "\n",
    "nltk_stopword = stopwords.words('english')\n",
    "\n",
    "combined_stopwords = pd.DataFrame(en_stopword + nltk_stopword).drop_duplicates()\n",
    "stopword_list = combined_stopwords[0].values.tolist()"
   ]
  },
  {
   "cell_type": "code",
   "execution_count": 9,
   "metadata": {},
   "outputs": [
    {
     "data": {
      "application/vnd.jupyter.widget-view+json": {
       "model_id": "a100dc45df4c4c7da7120b3cb3ec1d45",
       "version_major": 2,
       "version_minor": 0
      },
      "text/plain": [
       "  0%|          | 0/2181 [00:00<?, ?it/s]"
      ]
     },
     "metadata": {},
     "output_type": "display_data"
    },
    {
     "data": {
      "application/vnd.jupyter.widget-view+json": {
       "model_id": "eb0db9fe89d345ebaefb3f39c8dddf5f",
       "version_major": 2,
       "version_minor": 0
      },
      "text/plain": [
       "  0%|          | 0/2181 [00:00<?, ?it/s]"
      ]
     },
     "metadata": {},
     "output_type": "display_data"
    },
    {
     "data": {
      "text/html": [
       "<div>\n",
       "<style scoped>\n",
       "    .dataframe tbody tr th:only-of-type {\n",
       "        vertical-align: middle;\n",
       "    }\n",
       "\n",
       "    .dataframe tbody tr th {\n",
       "        vertical-align: top;\n",
       "    }\n",
       "\n",
       "    .dataframe thead th {\n",
       "        text-align: right;\n",
       "    }\n",
       "</style>\n",
       "<table border=\"1\" class=\"dataframe\">\n",
       "  <thead>\n",
       "    <tr style=\"text-align: right;\">\n",
       "      <th></th>\n",
       "      <th>Product_name</th>\n",
       "      <th>Review</th>\n",
       "      <th>Rating</th>\n",
       "      <th>clean_text</th>\n",
       "    </tr>\n",
       "  </thead>\n",
       "  <tbody>\n",
       "    <tr>\n",
       "      <th>0</th>\n",
       "      <td>Lenovo Ideapad Gaming 3 Ryzen 5 Hexa Core 5600...</td>\n",
       "      <td>Best under 60k Great performanceI got it for a...</td>\n",
       "      <td>3</td>\n",
       "      <td>best great performancei get around backup bite...</td>\n",
       "    </tr>\n",
       "    <tr>\n",
       "      <th>1</th>\n",
       "      <td>Lenovo Ideapad Gaming 3 Ryzen 5 Hexa Core 5600...</td>\n",
       "      <td>Good perfomence...</td>\n",
       "      <td>3</td>\n",
       "      <td>good perfomence</td>\n",
       "    </tr>\n",
       "    <tr>\n",
       "      <th>2</th>\n",
       "      <td>Lenovo Ideapad Gaming 3 Ryzen 5 Hexa Core 5600...</td>\n",
       "      <td>Great performance but usually it has also that...</td>\n",
       "      <td>3</td>\n",
       "      <td>great performance usually also game laptops is...</td>\n",
       "    </tr>\n",
       "    <tr>\n",
       "      <th>3</th>\n",
       "      <td>DELL Inspiron Athlon Dual Core 3050U - (4 GB/2...</td>\n",
       "      <td>My wife is so happy and best product 👌🏻😘</td>\n",
       "      <td>3</td>\n",
       "      <td>wife happy best product</td>\n",
       "    </tr>\n",
       "    <tr>\n",
       "      <th>4</th>\n",
       "      <td>DELL Inspiron Athlon Dual Core 3050U - (4 GB/2...</td>\n",
       "      <td>Light weight laptop with new amazing features,...</td>\n",
       "      <td>3</td>\n",
       "      <td>light weight laptop new amaze feature battery ...</td>\n",
       "    </tr>\n",
       "  </tbody>\n",
       "</table>\n",
       "</div>"
      ],
      "text/plain": [
       "                                        Product_name  \\\n",
       "0  Lenovo Ideapad Gaming 3 Ryzen 5 Hexa Core 5600...   \n",
       "1  Lenovo Ideapad Gaming 3 Ryzen 5 Hexa Core 5600...   \n",
       "2  Lenovo Ideapad Gaming 3 Ryzen 5 Hexa Core 5600...   \n",
       "3  DELL Inspiron Athlon Dual Core 3050U - (4 GB/2...   \n",
       "4  DELL Inspiron Athlon Dual Core 3050U - (4 GB/2...   \n",
       "\n",
       "                                              Review  Rating  \\\n",
       "0  Best under 60k Great performanceI got it for a...       3   \n",
       "1                                 Good perfomence...       3   \n",
       "2  Great performance but usually it has also that...       3   \n",
       "3           My wife is so happy and best product 👌🏻😘       3   \n",
       "4  Light weight laptop with new amazing features,...       3   \n",
       "\n",
       "                                          clean_text  \n",
       "0  best great performancei get around backup bite...  \n",
       "1                                    good perfomence  \n",
       "2  great performance usually also game laptops is...  \n",
       "3                            wife happy best product  \n",
       "4  light weight laptop new amaze feature battery ...  "
      ]
     },
     "execution_count": 9,
     "metadata": {},
     "output_type": "execute_result"
    }
   ],
   "source": [
    "data['clean_text'] = data['Review'] \\\n",
    "                    .progress_apply(clean) \\\n",
    "                    .progress_apply(lemmatize_sentence) \\\n",
    "                    # .progress_apply(remove_duplicate_words) \\\n",
    "                    # .progress_apply(lambda x: ' '.join([word for word in x.split(' ') if word not in (nltk_stopword)])) \\\n",
    "                    # .progress_apply(lower_text) \\\n",
    "                    # .progress_apply(alphanumeric_text) \\\n",
    "                    # .progress_apply(lambda x: ' '.join([word for word in x.split(' ') if len(word) >= 4])) \\\n",
    "                    # .progress_apply(lemmatizer) \\\n",
    "data.head()"
   ]
  },
  {
   "cell_type": "code",
   "execution_count": 10,
   "metadata": {},
   "outputs": [
    {
     "data": {
      "text/plain": [
       "<Axes: xlabel='text_len'>"
      ]
     },
     "execution_count": 10,
     "metadata": {},
     "output_type": "execute_result"
    },
    {
     "data": {
      "image/png": "[encoded data removed]",
      "text/plain": [
       "<Figure size 2500x200 with 1 Axes>"
      ]
     },
     "metadata": {},
     "output_type": "display_data"
    }
   ],
   "source": [
    "text_len = [len(word) for word in data['clean_text'].str.split(' ')]\n",
    "data['text_len'] = pd.DataFrame(text_len)\n",
    "\n",
    "fig, ax = plt.subplots(figsize=(25, 2))\n",
    "sns.boxplot(x=data['text_len'], palette=\"crest\")"
   ]
  },
  {
   "cell_type": "code",
   "execution_count": 11,
   "metadata": {},
   "outputs": [
    {
     "name": "stdout",
     "output_type": "stream",
     "text": [
      "4.0\n",
      "57.0\n"
     ]
    }
   ],
   "source": [
    "print(data['text_len'].quantile(.25))\n",
    "print(data['text_len'].quantile(1))"
   ]
  },
  {
   "cell_type": "code",
   "execution_count": 12,
   "metadata": {},
   "outputs": [
    {
     "name": "stdout",
     "output_type": "stream",
     "text": [
      "4.0\n",
      "57.0\n"
     ]
    },
    {
     "data": {
      "text/plain": [
       "<Axes: xlabel='text_len'>"
      ]
     },
     "execution_count": 12,
     "metadata": {},
     "output_type": "execute_result"
    },
    {
     "data": {
      "image/png": "[encoded data removed]",
      "text/plain": [
       "<Figure size 2500x200 with 1 Axes>"
      ]
     },
     "metadata": {},
     "output_type": "display_data"
    }
   ],
   "source": [
    "Q1 = data['text_len'].quantile(0.25)\n",
    "Q3 = data['text_len'].quantile(1)\n",
    "\n",
    "print(Q1)\n",
    "print(Q3)\n",
    "\n",
    "data = data[(data['text_len'] > Q1) & (data['text_len'] < Q3)]\n",
    "\n",
    "fig, axes = plt.subplots(figsize=(25, 2))\n",
    "sns.boxplot(x=data['text_len'], palette=\"Oranges\")"
   ]
  },
  {
   "cell_type": "code",
   "execution_count": 13,
   "metadata": {},
   "outputs": [
    {
     "data": {
      "text/plain": [
       "[Text(0, 0, '219'), Text(0, 0, '382'), Text(0, 0, '920')]"
      ]
     },
     "execution_count": 13,
     "metadata": {},
     "output_type": "execute_result"
    },
    {
     "data": {
      "image/png": "[encoded data removed]",
      "text/plain": [
       "<Figure size 640x480 with 1 Axes>"
      ]
     },
     "metadata": {},
     "output_type": "display_data"
    }
   ],
   "source": [
    "ax = sns.countplot(data, x = data['Rating'])\n",
    "ax.bar_label(ax.containers[0])"
   ]
  },
  {
   "attachments": {},
   "cell_type": "markdown",
   "metadata": {},
   "source": [
    "# 5. Model"
   ]
  },
  {
   "attachments": {},
   "cell_type": "markdown",
   "metadata": {},
   "source": [
    "### 5.1. Splitting Data"
   ]
  },
  {
   "cell_type": "code",
   "execution_count": 14,
   "metadata": {},
   "outputs": [
    {
     "name": "stdout",
     "output_type": "stream",
     "text": [
      "(1067,)\n",
      "(301,)\n",
      "(153,)\n"
     ]
    }
   ],
   "source": [
    "X = data['clean_text']\n",
    "# Y = data['CLASS'] ### For Classification Algoritms\n",
    "Y = pd.get_dummies(data['Rating']) ### For Deep Learning Algoritms\n",
    "\n",
    "X_train, X_val, y_train, y_val = train_test_split(X, Y, train_size=0.9, random_state = 42)\n",
    "X_train, X_test, y_train, y_test = train_test_split(X_train, y_train, train_size=0.78, random_state = 42)\n",
    "\n",
    "print(X_train.shape)\n",
    "print(X_test.shape)\n",
    "print(X_val.shape)"
   ]
  },
  {
   "attachments": {},
   "cell_type": "markdown",
   "metadata": {},
   "source": [
    "### 5.2. Declare parameter for Tokenizing and Training Model process"
   ]
  },
  {
   "cell_type": "code",
   "execution_count": 17,
   "metadata": {},
   "outputs": [],
   "source": [
    "vocab_size = 3425\n",
    "embedding_dim = 256\n",
    "max_length = 57\n",
    "trunc_type = 'post'\n",
    "padding_type = 'post'\n",
    "oov_tok = \"<OOV>\""
   ]
  },
  {
   "attachments": {},
   "cell_type": "markdown",
   "metadata": {},
   "source": [
    "### 5.3. Tokenizing text"
   ]
  },
  {
   "cell_type": "code",
   "execution_count": 18,
   "metadata": {},
   "outputs": [
    {
     "name": "stdout",
     "output_type": "stream",
     "text": [
      "3424\n"
     ]
    }
   ],
   "source": [
    "# Tokenizing \n",
    "tokenizer = Tokenizer(num_words=vocab_size, oov_token=oov_tok)\n",
    "tokenizer.fit_on_texts(X)\n",
    "\n",
    "print(len(tokenizer.word_index))\n",
    "\n",
    "# Text to Sequences\n",
    "training_sequences = tokenizer.texts_to_sequences(X_train)\n",
    "testing_sequences = tokenizer.texts_to_sequences(X_test)\n",
    "validating_sequences = tokenizer.texts_to_sequences(X_val)\n",
    "\n",
    "# Add padding\n",
    "training_padded = pad_sequences(training_sequences, maxlen = max_length, padding = padding_type)\n",
    "testing_padded = pad_sequences(testing_sequences, maxlen = max_length, padding = padding_type)\n",
    "validating_padded = pad_sequences(validating_sequences, maxlen = max_length, padding = padding_type)\n",
    "\n",
    "# Convert to numpy array\n",
    "training_padded = np.array(training_padded)\n",
    "training_label = np.array(y_train)\n",
    "\n",
    "testing_padded = np.array(testing_padded)\n",
    "testing_label = np.array(y_test)\n",
    "\n",
    "validating_padded = np.array(validating_padded)\n",
    "validating_label = np.array(y_val)"
   ]
  },
  {
   "attachments": {},
   "cell_type": "markdown",
   "metadata": {},
   "source": [
    "# 6. Classification Algoritms"
   ]
  },
  {
   "cell_type": "code",
   "execution_count": 35,
   "metadata": {},
   "outputs": [],
   "source": [
    "adaboost = AdaBoostClassifier(n_estimators=100, random_state=42)\n",
    "bagging = BaggingClassifier(n_jobs=-1)\n",
    "extraTrees = ExtraTreesClassifier(max_depth=100, n_jobs=-1, random_state=42)\n",
    "gradient = GradientBoostingClassifier(max_depth=100, n_estimators=100, learning_rate=.01,  random_state=42)\n",
    "randomForest = RandomForestClassifier(max_depth=100, random_state=42, n_jobs=-1)\n",
    "histGradientBoosting = HistGradientBoostingClassifier()\n",
    "XGB = XGBClassifier(n_jobs=-1)\n",
    "knn = KNeighborsClassifier(n_jobs=-1)\n",
    "decisionTree = DecisionTreeClassifier(random_state=42, max_depth=100)\n",
    "\n",
    "model = StackingClassifier([\n",
    "    ('randomforest', randomForest),\n",
    "    ('histGradientBoosting', histGradientBoosting),\n",
    "    ('XGB', XGB),\n",
    "    # ('adaboost', adaboost),\n",
    "    # ('bagging', bagging),\n",
    "    # ('extraTress', extraTrees),\n",
    "    # ('gradient', gradient),\n",
    "    # ('knn', knn),\n",
    "    # ('decisionTree', decisionTree),\n",
    "\n",
    "], n_jobs=-1)"
   ]
  },
  {
   "cell_type": "code",
   "execution_count": null,
   "metadata": {},
   "outputs": [],
   "source": [
    "model.fit(training_padded, training_label)"
   ]
  },
  {
   "cell_type": "code",
   "execution_count": 103,
   "metadata": {},
   "outputs": [
    {
     "name": "stdout",
     "output_type": "stream",
     "text": [
      "Train Score        : 100.0 %\n",
      "Test Score         : 85.94 %\n",
      "Validating Score   : 81.75 %\n",
      "R Squared Error    : 0.44\n",
      "Mean Squared Error : 0.14\n"
     ]
    }
   ],
   "source": [
    "print(\"Train Score        :\",round((model.score(training_padded, training_label)*100), 2),'%')\n",
    "print(\"Test Score         :\",round((model.score(testing_padded, testing_label)*100), 2),'%')\n",
    "print(\"Validating Score   :\",round((model.score(validating_padded, validating_label)*100), 2),'%')\n",
    "\n",
    "y_pred = model.predict(testing_padded)\n",
    "\n",
    "print(\"R Squared Error    :\",round(r2_score(testing_label, y_pred), 2))\n",
    "print(\"Mean Squared Error :\",round(mean_squared_error(testing_label, y_pred), 2))"
   ]
  },
  {
   "cell_type": "code",
   "execution_count": 104,
   "metadata": {},
   "outputs": [
    {
     "name": "stdout",
     "output_type": "stream",
     "text": [
      "   Train Predictions  Actuals  Diff\n",
      "0                  0        0     0\n",
      "1                  1        1     0\n",
      "2                  0        0     0\n",
      "3                  0        0     0\n",
      "4                  0        1     1\n",
      "35 / 249\n"
     ]
    }
   ],
   "source": [
    "train_predictions = model.predict(testing_padded).flatten()\n",
    "\n",
    "train_results = pd.DataFrame(data={'Train Predictions':train_predictions, 'Actuals':testing_label})\n",
    "train_results['Diff'] = abs(train_results['Actuals'] - train_results['Train Predictions'])\n",
    "print(train_results.head(5))\n",
    "print(train_results['Diff'].sum(), '/', len(train_results['Diff']))"
   ]
  },
  {
   "cell_type": "code",
   "execution_count": 105,
   "metadata": {},
   "outputs": [
    {
     "name": "stdout",
     "output_type": "stream",
     "text": [
      "              precision    recall  f1-score   support\n",
      "\n",
      "           0       0.82      0.88      0.85       113\n",
      "           1       0.90      0.84      0.87       136\n",
      "\n",
      "    accuracy                           0.86       249\n",
      "   macro avg       0.86      0.86      0.86       249\n",
      "weighted avg       0.86      0.86      0.86       249\n",
      "\n"
     ]
    }
   ],
   "source": [
    "y_pred = model.predict(testing_padded)\n",
    "print(classification_report(y_pred,testing_label))"
   ]
  },
  {
   "cell_type": "code",
   "execution_count": 106,
   "metadata": {},
   "outputs": [
    {
     "data": {
      "image/png": "[encoded data removed]",
      "text/plain": [
       "<Figure size 640x480 with 2 Axes>"
      ]
     },
     "metadata": {},
     "output_type": "display_data"
    }
   ],
   "source": [
    "labels = ['Not Spam', 'Spam']\n",
    "\n",
    "y_pred = np.rint(model.predict(testing_padded))\n",
    "con_mat = confusion_matrix(testing_label,y_pred)\n",
    "\n",
    "cm_percent = con_mat.astype('float') / con_mat.sum(axis=1)[:, np.newaxis]\n",
    "\n",
    "sns.heatmap(cm_percent, annot=True, fmt='.2%', cmap='Blues', xticklabels=labels, yticklabels=labels)\n",
    "plt.xlabel('Predicted Labels')\n",
    "plt.ylabel('True Labels')\n",
    "plt.title('Confusion Matrix - Fake News Detection')\n",
    "plt.show()"
   ]
  },
  {
   "attachments": {},
   "cell_type": "markdown",
   "metadata": {},
   "source": [
    "# 7. Deep Learning Models"
   ]
  },
  {
   "cell_type": "code",
   "execution_count": 44,
   "metadata": {},
   "outputs": [
    {
     "name": "stdout",
     "output_type": "stream",
     "text": [
      "Model: \"sequential_5\"\n",
      "_________________________________________________________________\n",
      " Layer (type)                Output Shape              Param #   \n",
      "=================================================================\n",
      " embedding_5 (Embedding)     (None, 57, 256)           876800    \n",
      "                                                                 \n",
      " bidirectional_7 (Bidirectio  (None, 57, 256)          296448    \n",
      " nal)                                                            \n",
      "                                                                 \n",
      " bidirectional_8 (Bidirectio  (None, 256)              296448    \n",
      " nal)                                                            \n",
      "                                                                 \n",
      " dense_5 (Dense)             (None, 3)                 771       \n",
      "                                                                 \n",
      "=================================================================\n",
      "Total params: 1,470,467\n",
      "Trainable params: 1,470,467\n",
      "Non-trainable params: 0\n",
      "_________________________________________________________________\n"
     ]
    }
   ],
   "source": [
    "def DNN_Model():\n",
    "    model = Sequential()\n",
    "    model.add(Embedding(vocab_size, embedding_dim, input_length=max_length))\n",
    "    model.add(Flatten())\n",
    "\n",
    "    model.add(Dense(4098, activation='relu'))\n",
    "    model.add(Dense(1024, activation='relu'))\n",
    "    # model.add(Dense(256, activation='relu'))\n",
    "    model.add(Dense(2, activation='softmax'))\n",
    "    return model\n",
    "\n",
    "\n",
    "def CNN_Model():\n",
    "    model = Sequential()\n",
    "    model.add(Embedding(vocab_size, embedding_dim, input_length=max_length))\n",
    "\n",
    "    model.add(Conv1D(64, 3, kernel_regularizer=keras.regularizers.l2(l=0.001), padding='same'))\n",
    "    model.add(BatchNormalization())\n",
    "    model.add(ReLU())\n",
    "    model.add(MaxPooling1D())\n",
    "\n",
    "    model.add(Conv1D(64, 3, kernel_regularizer=keras.regularizers.l2(l=0.001), padding='same'))\n",
    "    model.add(BatchNormalization())\n",
    "    model.add(ReLU())\n",
    "    model.add(MaxPooling1D())\n",
    "\n",
    "    model.add(Flatten())\n",
    "    # model.add(Dense(4098, activation='relu'))\n",
    "    model.add(Dense(512, activation='relu'))\n",
    "    # model.add(Dense(256, activation='relu'))\n",
    "    model.add(Dense(2, activation='softmax'))\n",
    "    return model\n",
    "\n",
    "def LSTM_Model():\n",
    "    model = Sequential()\n",
    "    model.add(Embedding(input_dim=vocab_size, output_dim=embedding_dim, input_length=max_length))\n",
    "    model.add(Bidirectional(LSTM(128, return_sequences=True)))\n",
    "    model.add(Bidirectional(LSTM(128)))\n",
    "    model.add(Dense(2, activation='softmax'))\n",
    "    return model\n",
    "\n",
    "def GRU_Model():\n",
    "    model = Sequential()\n",
    "    model.add(Embedding(vocab_size, embedding_dim, input_length=max_length))\n",
    "    model.add(Bidirectional(GRU(128, activation ='tanh', recurrent_activation ='sigmoid', recurrent_dropout = 0, unroll=False, use_bias=True, reset_after=True, return_sequences=True)))\n",
    "    model.add(Bidirectional(GRU(128, activation ='tanh', recurrent_activation ='sigmoid', recurrent_dropout = 0, unroll=False, use_bias=True, reset_after=True)))\n",
    "    model.add(Dense(3, activation='softmax'))\n",
    "    return model\n",
    "\n",
    "# model = DNN_Model()\n",
    "# model = CNN_Model()\n",
    "# model = LSTM_Model()\n",
    "model = GRU_Model()\n",
    "\n",
    "model.summary()\n",
    "opt = Adam(learning_rate = 0.000_025)\n",
    "model.compile(loss='categorical_crossentropy', optimizer=opt, metrics=['accuracy'])"
   ]
  },
  {
   "cell_type": "code",
   "execution_count": 45,
   "metadata": {},
   "outputs": [
    {
     "name": "stdout",
     "output_type": "stream",
     "text": [
      "Epoch 1/100\n",
      "17/17 [==============================] - 5s 86ms/step - loss: 1.0958 - accuracy: 0.3196 - val_loss: 1.0788 - val_accuracy: 0.6340\n",
      "Epoch 2/100\n",
      "17/17 [==============================] - 1s 33ms/step - loss: 1.0684 - accuracy: 0.5886 - val_loss: 1.0467 - val_accuracy: 0.6601\n",
      "Epoch 3/100\n",
      "17/17 [==============================] - 1s 31ms/step - loss: 1.0428 - accuracy: 0.5886 - val_loss: 1.0147 - val_accuracy: 0.6601\n",
      "Epoch 4/100\n",
      "17/17 [==============================] - 1s 33ms/step - loss: 1.0172 - accuracy: 0.5886 - val_loss: 0.9831 - val_accuracy: 0.6601\n",
      "Epoch 5/100\n",
      "17/17 [==============================] - 1s 32ms/step - loss: 0.9941 - accuracy: 0.5886 - val_loss: 0.9501 - val_accuracy: 0.6601\n",
      "Epoch 6/100\n",
      "17/17 [==============================] - 1s 33ms/step - loss: 0.9739 - accuracy: 0.5886 - val_loss: 0.9218 - val_accuracy: 0.6601\n",
      "Epoch 7/100\n",
      "17/17 [==============================] - 1s 33ms/step - loss: 0.9555 - accuracy: 0.5886 - val_loss: 0.9034 - val_accuracy: 0.6601\n",
      "Epoch 8/100\n",
      "17/17 [==============================] - 1s 35ms/step - loss: 0.9464 - accuracy: 0.5886 - val_loss: 0.8878 - val_accuracy: 0.6601\n",
      "Epoch 9/100\n",
      "17/17 [==============================] - 1s 32ms/step - loss: 0.9398 - accuracy: 0.5886 - val_loss: 0.8816 - val_accuracy: 0.6601\n",
      "Epoch 10/100\n",
      "17/17 [==============================] - 1s 31ms/step - loss: 0.9370 - accuracy: 0.5886 - val_loss: 0.8777 - val_accuracy: 0.6601\n",
      "Epoch 11/100\n",
      "17/17 [==============================] - 1s 32ms/step - loss: 0.9352 - accuracy: 0.5886 - val_loss: 0.8768 - val_accuracy: 0.6601\n",
      "Epoch 12/100\n",
      "17/17 [==============================] - 1s 33ms/step - loss: 0.9336 - accuracy: 0.5886 - val_loss: 0.8754 - val_accuracy: 0.6601\n",
      "Epoch 13/100\n",
      "17/17 [==============================] - 1s 33ms/step - loss: 0.9315 - accuracy: 0.5886 - val_loss: 0.8745 - val_accuracy: 0.6601\n",
      "Epoch 14/100\n",
      "17/17 [==============================] - 1s 35ms/step - loss: 0.9297 - accuracy: 0.5886 - val_loss: 0.8745 - val_accuracy: 0.6601\n",
      "Epoch 15/100\n",
      "17/17 [==============================] - 1s 32ms/step - loss: 0.9274 - accuracy: 0.5886 - val_loss: 0.8728 - val_accuracy: 0.6601\n",
      "Epoch 16/100\n",
      "17/17 [==============================] - 1s 33ms/step - loss: 0.9251 - accuracy: 0.5886 - val_loss: 0.8704 - val_accuracy: 0.6601\n",
      "Epoch 17/100\n",
      "17/17 [==============================] - 1s 32ms/step - loss: 0.9224 - accuracy: 0.5886 - val_loss: 0.8703 - val_accuracy: 0.6601\n",
      "Epoch 18/100\n",
      "17/17 [==============================] - 1s 33ms/step - loss: 0.9188 - accuracy: 0.5886 - val_loss: 0.8677 - val_accuracy: 0.6601\n",
      "Epoch 19/100\n",
      "17/17 [==============================] - 1s 32ms/step - loss: 0.9150 - accuracy: 0.5886 - val_loss: 0.8643 - val_accuracy: 0.6601\n",
      "Epoch 20/100\n",
      "17/17 [==============================] - 1s 35ms/step - loss: 0.9104 - accuracy: 0.5886 - val_loss: 0.8612 - val_accuracy: 0.6601\n",
      "Epoch 21/100\n",
      "17/17 [==============================] - 1s 32ms/step - loss: 0.9051 - accuracy: 0.5886 - val_loss: 0.8579 - val_accuracy: 0.6601\n",
      "Epoch 22/100\n",
      "17/17 [==============================] - 1s 32ms/step - loss: 0.8987 - accuracy: 0.5886 - val_loss: 0.8532 - val_accuracy: 0.6601\n",
      "Epoch 23/100\n",
      "17/17 [==============================] - 1s 33ms/step - loss: 0.8909 - accuracy: 0.5886 - val_loss: 0.8470 - val_accuracy: 0.6601\n",
      "Epoch 24/100\n",
      "17/17 [==============================] - 1s 33ms/step - loss: 0.8810 - accuracy: 0.5886 - val_loss: 0.8391 - val_accuracy: 0.6601\n",
      "Epoch 25/100\n",
      "17/17 [==============================] - 1s 35ms/step - loss: 0.8687 - accuracy: 0.5886 - val_loss: 0.8283 - val_accuracy: 0.6601\n",
      "Epoch 26/100\n",
      "17/17 [==============================] - 1s 32ms/step - loss: 0.8523 - accuracy: 0.5886 - val_loss: 0.8138 - val_accuracy: 0.6601\n",
      "Epoch 27/100\n",
      "17/17 [==============================] - 1s 33ms/step - loss: 0.8301 - accuracy: 0.5923 - val_loss: 0.7932 - val_accuracy: 0.6601\n",
      "Epoch 28/100\n",
      "17/17 [==============================] - 1s 32ms/step - loss: 0.8000 - accuracy: 0.5951 - val_loss: 0.7637 - val_accuracy: 0.6667\n",
      "Epoch 29/100\n",
      "17/17 [==============================] - 1s 33ms/step - loss: 0.7595 - accuracy: 0.6101 - val_loss: 0.7264 - val_accuracy: 0.6797\n",
      "Epoch 30/100\n",
      "17/17 [==============================] - 1s 32ms/step - loss: 0.7066 - accuracy: 0.6617 - val_loss: 0.6839 - val_accuracy: 0.7124\n",
      "Epoch 31/100\n",
      "17/17 [==============================] - 1s 35ms/step - loss: 0.6502 - accuracy: 0.7067 - val_loss: 0.6562 - val_accuracy: 0.7124\n",
      "Epoch 32/100\n",
      "17/17 [==============================] - 1s 32ms/step - loss: 0.6049 - accuracy: 0.7657 - val_loss: 0.6447 - val_accuracy: 0.7712\n",
      "Epoch 33/100\n",
      "17/17 [==============================] - 1s 32ms/step - loss: 0.5689 - accuracy: 0.7938 - val_loss: 0.6380 - val_accuracy: 0.7712\n",
      "Epoch 34/100\n",
      "17/17 [==============================] - 1s 33ms/step - loss: 0.5400 - accuracy: 0.8172 - val_loss: 0.6298 - val_accuracy: 0.7712\n",
      "Epoch 35/100\n",
      "17/17 [==============================] - 1s 33ms/step - loss: 0.5221 - accuracy: 0.8238 - val_loss: 0.6233 - val_accuracy: 0.7712\n",
      "Epoch 36/100\n",
      "17/17 [==============================] - 1s 33ms/step - loss: 0.4954 - accuracy: 0.8416 - val_loss: 0.6186 - val_accuracy: 0.7647\n",
      "Epoch 37/100\n",
      "17/17 [==============================] - 1s 35ms/step - loss: 0.4781 - accuracy: 0.8510 - val_loss: 0.6087 - val_accuracy: 0.7778\n",
      "Epoch 38/100\n",
      "17/17 [==============================] - 1s 32ms/step - loss: 0.4645 - accuracy: 0.8547 - val_loss: 0.6479 - val_accuracy: 0.7386\n",
      "Epoch 39/100\n",
      "17/17 [==============================] - 1s 32ms/step - loss: 0.4619 - accuracy: 0.8585 - val_loss: 0.6456 - val_accuracy: 0.7386\n",
      "Epoch 40/100\n",
      "17/17 [==============================] - 1s 32ms/step - loss: 0.4446 - accuracy: 0.8632 - val_loss: 0.5886 - val_accuracy: 0.7778\n",
      "Epoch 41/100\n",
      "17/17 [==============================] - 1s 33ms/step - loss: 0.4287 - accuracy: 0.8650 - val_loss: 0.5946 - val_accuracy: 0.7843\n",
      "Epoch 42/100\n",
      "17/17 [==============================] - 1s 35ms/step - loss: 0.4243 - accuracy: 0.8754 - val_loss: 0.5813 - val_accuracy: 0.7974\n",
      "Epoch 43/100\n",
      "17/17 [==============================] - 1s 33ms/step - loss: 0.4016 - accuracy: 0.8763 - val_loss: 0.5844 - val_accuracy: 0.7778\n",
      "Epoch 44/100\n",
      "17/17 [==============================] - 1s 32ms/step - loss: 0.3906 - accuracy: 0.8857 - val_loss: 0.5883 - val_accuracy: 0.7778\n",
      "Epoch 45/100\n",
      "17/17 [==============================] - 1s 33ms/step - loss: 0.3781 - accuracy: 0.8885 - val_loss: 0.6003 - val_accuracy: 0.7451\n",
      "Epoch 46/100\n",
      "17/17 [==============================] - 1s 33ms/step - loss: 0.3723 - accuracy: 0.8922 - val_loss: 0.5742 - val_accuracy: 0.7908\n",
      "Epoch 47/100\n",
      "17/17 [==============================] - 1s 32ms/step - loss: 0.3564 - accuracy: 0.8950 - val_loss: 0.5693 - val_accuracy: 0.7908\n",
      "Epoch 48/100\n",
      "17/17 [==============================] - 1s 33ms/step - loss: 0.3503 - accuracy: 0.8997 - val_loss: 0.5879 - val_accuracy: 0.8039\n",
      "Epoch 49/100\n",
      "17/17 [==============================] - 1s 32ms/step - loss: 0.3484 - accuracy: 0.8969 - val_loss: 0.5614 - val_accuracy: 0.7908\n",
      "Epoch 50/100\n",
      "17/17 [==============================] - 1s 31ms/step - loss: 0.3271 - accuracy: 0.8988 - val_loss: 0.5681 - val_accuracy: 0.7647\n",
      "Epoch 51/100\n",
      "17/17 [==============================] - 1s 31ms/step - loss: 0.3290 - accuracy: 0.9063 - val_loss: 0.6106 - val_accuracy: 0.7516\n",
      "Epoch 52/100\n",
      "17/17 [==============================] - 1s 31ms/step - loss: 0.3181 - accuracy: 0.9053 - val_loss: 0.5752 - val_accuracy: 0.7451\n",
      "Epoch 53/100\n",
      "17/17 [==============================] - 1s 33ms/step - loss: 0.2994 - accuracy: 0.9035 - val_loss: 0.5576 - val_accuracy: 0.7843\n",
      "Epoch 54/100\n",
      "17/17 [==============================] - 1s 31ms/step - loss: 0.2886 - accuracy: 0.9082 - val_loss: 0.5689 - val_accuracy: 0.7974\n",
      "Epoch 55/100\n",
      "17/17 [==============================] - 1s 31ms/step - loss: 0.2857 - accuracy: 0.9072 - val_loss: 0.5587 - val_accuracy: 0.7778\n",
      "Epoch 56/100\n",
      "17/17 [==============================] - 1s 31ms/step - loss: 0.2782 - accuracy: 0.9110 - val_loss: 0.5600 - val_accuracy: 0.7712\n",
      "Epoch 57/100\n",
      "17/17 [==============================] - 1s 31ms/step - loss: 0.2743 - accuracy: 0.9025 - val_loss: 0.5602 - val_accuracy: 0.7778\n",
      "Epoch 58/100\n",
      "17/17 [==============================] - 1s 34ms/step - loss: 0.2595 - accuracy: 0.9110 - val_loss: 0.5896 - val_accuracy: 0.7582\n",
      "Epoch 59/100\n",
      "17/17 [==============================] - 1s 31ms/step - loss: 0.2459 - accuracy: 0.9119 - val_loss: 0.5698 - val_accuracy: 0.7778\n",
      "Epoch 60/100\n",
      "17/17 [==============================] - 1s 31ms/step - loss: 0.2440 - accuracy: 0.9138 - val_loss: 0.5706 - val_accuracy: 0.7647\n",
      "Epoch 61/100\n",
      "17/17 [==============================] - 1s 31ms/step - loss: 0.2338 - accuracy: 0.9128 - val_loss: 0.5744 - val_accuracy: 0.7647\n",
      "Epoch 62/100\n",
      "17/17 [==============================] - 1s 32ms/step - loss: 0.2262 - accuracy: 0.9166 - val_loss: 0.5928 - val_accuracy: 0.7582\n",
      "Epoch 63/100\n",
      "17/17 [==============================] - 1s 31ms/step - loss: 0.2208 - accuracy: 0.9203 - val_loss: 0.5883 - val_accuracy: 0.7582\n",
      "Epoch 64/100\n",
      "17/17 [==============================] - 1s 33ms/step - loss: 0.2122 - accuracy: 0.9250 - val_loss: 0.5859 - val_accuracy: 0.7647\n",
      "Epoch 65/100\n",
      "17/17 [==============================] - 1s 32ms/step - loss: 0.2056 - accuracy: 0.9260 - val_loss: 0.5992 - val_accuracy: 0.7647\n",
      "Epoch 66/100\n",
      "17/17 [==============================] - 1s 32ms/step - loss: 0.2147 - accuracy: 0.9222 - val_loss: 0.5944 - val_accuracy: 0.7647\n",
      "Epoch 67/100\n",
      "17/17 [==============================] - 1s 32ms/step - loss: 0.2021 - accuracy: 0.9250 - val_loss: 0.6286 - val_accuracy: 0.7516\n",
      "Epoch 68/100\n",
      "17/17 [==============================] - 1s 31ms/step - loss: 0.2019 - accuracy: 0.9203 - val_loss: 0.6351 - val_accuracy: 0.7516\n",
      "Epoch 69/100\n",
      "17/17 [==============================] - 1s 35ms/step - loss: 0.1887 - accuracy: 0.9325 - val_loss: 0.6061 - val_accuracy: 0.7712\n",
      "Epoch 70/100\n",
      "17/17 [==============================] - 1s 32ms/step - loss: 0.1824 - accuracy: 0.9344 - val_loss: 0.6101 - val_accuracy: 0.7647\n",
      "Epoch 71/100\n",
      "17/17 [==============================] - 1s 31ms/step - loss: 0.1825 - accuracy: 0.9381 - val_loss: 0.6250 - val_accuracy: 0.7582\n",
      "Epoch 72/100\n",
      "17/17 [==============================] - 1s 32ms/step - loss: 0.1855 - accuracy: 0.9260 - val_loss: 0.6267 - val_accuracy: 0.7582\n",
      "Epoch 73/100\n",
      "17/17 [==============================] - 1s 32ms/step - loss: 0.1868 - accuracy: 0.9316 - val_loss: 0.6236 - val_accuracy: 0.7582\n",
      "Epoch 74/100\n",
      "17/17 [==============================] - 1s 34ms/step - loss: 0.1746 - accuracy: 0.9372 - val_loss: 0.6238 - val_accuracy: 0.7647\n",
      "Epoch 75/100\n",
      "17/17 [==============================] - 1s 32ms/step - loss: 0.1675 - accuracy: 0.9400 - val_loss: 0.6340 - val_accuracy: 0.7582\n",
      "Epoch 76/100\n",
      "17/17 [==============================] - 1s 34ms/step - loss: 0.1630 - accuracy: 0.9391 - val_loss: 0.6341 - val_accuracy: 0.7778\n",
      "Epoch 77/100\n",
      "17/17 [==============================] - 1s 33ms/step - loss: 0.1658 - accuracy: 0.9363 - val_loss: 0.6410 - val_accuracy: 0.7778\n",
      "Epoch 78/100\n",
      "17/17 [==============================] - 1s 32ms/step - loss: 0.1563 - accuracy: 0.9466 - val_loss: 0.6449 - val_accuracy: 0.7778\n",
      "Epoch 79/100\n",
      "17/17 [==============================] - 1s 34ms/step - loss: 0.1626 - accuracy: 0.9428 - val_loss: 0.6500 - val_accuracy: 0.7712\n",
      "Epoch 80/100\n",
      "17/17 [==============================] - 1s 32ms/step - loss: 0.1564 - accuracy: 0.9456 - val_loss: 0.6524 - val_accuracy: 0.7647\n",
      "Epoch 81/100\n",
      "17/17 [==============================] - 1s 32ms/step - loss: 0.1552 - accuracy: 0.9466 - val_loss: 0.6545 - val_accuracy: 0.7712\n",
      "Epoch 82/100\n",
      "17/17 [==============================] - 1s 33ms/step - loss: 0.1471 - accuracy: 0.9485 - val_loss: 0.6651 - val_accuracy: 0.7516\n",
      "Epoch 83/100\n",
      "17/17 [==============================] - 1s 33ms/step - loss: 0.1465 - accuracy: 0.9447 - val_loss: 0.6728 - val_accuracy: 0.7712\n",
      "Epoch 84/100\n",
      "17/17 [==============================] - 1s 34ms/step - loss: 0.1454 - accuracy: 0.9475 - val_loss: 0.6867 - val_accuracy: 0.7778\n",
      "Epoch 85/100\n",
      "17/17 [==============================] - 1s 33ms/step - loss: 0.1376 - accuracy: 0.9475 - val_loss: 0.6937 - val_accuracy: 0.7778\n",
      "Epoch 86/100\n",
      "17/17 [==============================] - 1s 33ms/step - loss: 0.1400 - accuracy: 0.9503 - val_loss: 0.6766 - val_accuracy: 0.7908\n",
      "Epoch 87/100\n",
      "17/17 [==============================] - 1s 33ms/step - loss: 0.1353 - accuracy: 0.9541 - val_loss: 0.6909 - val_accuracy: 0.7712\n",
      "Epoch 88/100\n",
      "17/17 [==============================] - 1s 34ms/step - loss: 0.1393 - accuracy: 0.9456 - val_loss: 0.6848 - val_accuracy: 0.7712\n",
      "Epoch 89/100\n",
      "17/17 [==============================] - 1s 36ms/step - loss: 0.1308 - accuracy: 0.9503 - val_loss: 0.7030 - val_accuracy: 0.7843\n",
      "Epoch 90/100\n",
      "17/17 [==============================] - 1s 33ms/step - loss: 0.1321 - accuracy: 0.9513 - val_loss: 0.7159 - val_accuracy: 0.7843\n",
      "Epoch 91/100\n",
      "17/17 [==============================] - 1s 32ms/step - loss: 0.1284 - accuracy: 0.9522 - val_loss: 0.7235 - val_accuracy: 0.7843\n",
      "Epoch 92/100\n",
      "17/17 [==============================] - 1s 33ms/step - loss: 0.1295 - accuracy: 0.9560 - val_loss: 0.7197 - val_accuracy: 0.7843\n",
      "Epoch 93/100\n",
      "17/17 [==============================] - 1s 33ms/step - loss: 0.1223 - accuracy: 0.9569 - val_loss: 0.7170 - val_accuracy: 0.7843\n",
      "Epoch 94/100\n",
      "17/17 [==============================] - 1s 35ms/step - loss: 0.1209 - accuracy: 0.9541 - val_loss: 0.7188 - val_accuracy: 0.7778\n",
      "Epoch 95/100\n",
      "17/17 [==============================] - 1s 32ms/step - loss: 0.1215 - accuracy: 0.9550 - val_loss: 0.7244 - val_accuracy: 0.7843\n",
      "Epoch 96/100\n",
      "17/17 [==============================] - 1s 32ms/step - loss: 0.1228 - accuracy: 0.9550 - val_loss: 0.7418 - val_accuracy: 0.7843\n",
      "Epoch 97/100\n",
      "17/17 [==============================] - 1s 32ms/step - loss: 0.1284 - accuracy: 0.9485 - val_loss: 0.7618 - val_accuracy: 0.7843\n",
      "Epoch 98/100\n",
      "17/17 [==============================] - 1s 32ms/step - loss: 0.1205 - accuracy: 0.9503 - val_loss: 0.7287 - val_accuracy: 0.7712\n",
      "Epoch 99/100\n",
      "17/17 [==============================] - 1s 34ms/step - loss: 0.1139 - accuracy: 0.9597 - val_loss: 0.7487 - val_accuracy: 0.7843\n",
      "Epoch 100/100\n",
      "17/17 [==============================] - 1s 31ms/step - loss: 0.1161 - accuracy: 0.9541 - val_loss: 0.7393 - val_accuracy: 0.7843\n"
     ]
    }
   ],
   "source": [
    "num_epoch = 100\n",
    "batch_size = 64\n",
    "\n",
    "history = model.fit(training_padded, training_label, \n",
    "                    batch_size = batch_size, epochs = num_epoch, \n",
    "                    validation_data = (validating_padded, validating_label))"
   ]
  },
  {
   "attachments": {},
   "cell_type": "markdown",
   "metadata": {},
   "source": [
    "### 7.1. Evaluate The Model"
   ]
  },
  {
   "cell_type": "code",
   "execution_count": 46,
   "metadata": {},
   "outputs": [
    {
     "data": {
      "image/png": "[encoded data removed]",
      "text/plain": [
       "<Figure size 2500x400 with 2 Axes>"
      ]
     },
     "metadata": {},
     "output_type": "display_data"
    }
   ],
   "source": [
    "fig, ax = plt.subplots(nrows=1, ncols=2,figsize=(25, 4))\n",
    "ax[0].plot(history.history['accuracy'])\n",
    "ax[0].plot(history.history['val_accuracy'])\n",
    "ax[0].set_title('Accuracy')\n",
    "ax[0].set_xlabel('Accuracy')\n",
    "ax[0].set_ylabel('Epoch')\n",
    "\n",
    "ax[1].plot(history.history['loss'])\n",
    "ax[1].plot(history.history['val_loss'])\n",
    "ax[1].set_title('Loss')\n",
    "ax[1].set_xlabel('Loss')\n",
    "ax[1].set_ylabel('Epoch')\n",
    "\n",
    "plt.legend(['Train', 'Test'])\n",
    "plt.show()"
   ]
  },
  {
   "cell_type": "code",
   "execution_count": 47,
   "metadata": {},
   "outputs": [
    {
     "name": "stdout",
     "output_type": "stream",
     "text": [
      "R Squared Error    : 0.27\n",
      "Mean Squared Error : 0.14\n"
     ]
    }
   ],
   "source": [
    "y_pred = model.predict(testing_padded, verbose = 0)\n",
    "\n",
    "print(\"R Squared Error    :\",round(r2_score(testing_label, y_pred), 2))\n",
    "print(\"Mean Squared Error :\",round(mean_squared_error(testing_label, y_pred), 2))"
   ]
  },
  {
   "cell_type": "code",
   "execution_count": 48,
   "metadata": {},
   "outputs": [
    {
     "name": "stdout",
     "output_type": "stream",
     "text": [
      "   Train Predictions  Actuals  Diff\n",
      "0                  1        2     1\n",
      "1                  1        1     0\n",
      "2                  1        1     0\n",
      "3                  2        2     0\n",
      "4                  2        2     0\n",
      "84 / 301\n"
     ]
    }
   ],
   "source": [
    "train_predictions = model.predict(testing_padded, verbose=0).argmax(axis=1)\n",
    "\n",
    "train_results = pd.DataFrame(data={'Train Predictions':train_predictions, 'Actuals':testing_label.argmax(axis=1)})\n",
    "train_results['Diff'] = abs(train_results['Actuals'] - train_results['Train Predictions'])\n",
    "print(train_results.head(5))\n",
    "print(train_results['Diff'].sum(), '/', len(train_results['Diff']))"
   ]
  },
  {
   "cell_type": "code",
   "execution_count": 49,
   "metadata": {},
   "outputs": [
    {
     "name": "stdout",
     "output_type": "stream",
     "text": [
      "              precision    recall  f1-score   support\n",
      "\n",
      "           0       0.85      0.87      0.86        39\n",
      "           1       0.70      0.50      0.58        98\n",
      "           2       0.74      0.86      0.79       164\n",
      "\n",
      "    accuracy                           0.74       301\n",
      "   macro avg       0.76      0.74      0.75       301\n",
      "weighted avg       0.74      0.74      0.73       301\n",
      "\n"
     ]
    }
   ],
   "source": [
    "y_pred = model.predict(testing_padded, verbose=0).argmax(axis=1)\n",
    "print(classification_report(y_pred,testing_label.argmax(axis=1)))"
   ]
  },
  {
   "cell_type": "code",
   "execution_count": 50,
   "metadata": {},
   "outputs": [
    {
     "data": {
      "image/png": "[encoded data removed]",
      "text/plain": [
       "<Figure size 640x480 with 2 Axes>"
      ]
     },
     "metadata": {},
     "output_type": "display_data"
    }
   ],
   "source": [
    "# labels = ['1', '2', '3', '4', '5']\n",
    "\n",
    "y_pred = np.rint(model.predict(testing_padded, verbose=0))\n",
    "con_mat = confusion_matrix(testing_label.argmax(axis=1),y_pred.argmax(axis=1))\n",
    "\n",
    "cm_percent = con_mat.astype('float') / con_mat.sum(axis=1)[:, np.newaxis]\n",
    "\n",
    "# sns.heatmap(cm_percent, annot=True, fmt='.2%', cmap='Blues', xticklabels=labels, yticklabels=labels)\n",
    "sns.heatmap(cm_percent, annot=True, fmt='.2%', cmap='Blues')\n",
    "plt.xlabel('Predicted Labels')\n",
    "plt.ylabel('True Labels')\n",
    "plt.title('Confusion Matrix - Fake News Detection')\n",
    "plt.show()"
   ]
  }
 ],
 "metadata": {
  "kernelspec": {
   "display_name": "gan",
   "language": "python",
   "name": "python3"
  },
  "language_info": {
   "codemirror_mode": {
    "name": "ipython",
    "version": 3
   },
   "file_extension": ".py",
   "mimetype": "text/x-python",
   "name": "python",
   "nbconvert_exporter": "python",
   "pygments_lexer": "ipython3",
   "version": "3.9.16"
  },
  "orig_nbformat": 4
 },
 "nbformat": 4,
 "nbformat_minor": 2
}
